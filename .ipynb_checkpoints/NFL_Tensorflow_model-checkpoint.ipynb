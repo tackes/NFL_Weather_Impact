{
 "cells": [
  {
   "cell_type": "code",
   "execution_count": 136,
   "metadata": {},
   "outputs": [],
   "source": [
    "import numpy as np\n",
    "import pandas as pd\n",
    "import matplotlib.pyplot as plt\n",
    "import matplotlib.patches as patches\n",
    "import seaborn as sns\n",
    "import datetime\n",
    "import math\n",
    "import seaborn as sns\n",
    "\n",
    "import tensorflow as tf\n"
   ]
  },
  {
   "cell_type": "code",
   "execution_count": 3,
   "metadata": {},
   "outputs": [
    {
     "name": "stderr",
     "output_type": "stream",
     "text": [
      "C:\\ProgramData\\Anaconda3\\lib\\site-packages\\IPython\\core\\interactiveshell.py:3072: DtypeWarning: Columns (47) have mixed types.Specify dtype option on import or set low_memory=False.\n",
      "  interactivity=interactivity, compiler=compiler, result=result)\n"
     ]
    }
   ],
   "source": [
    "train = pd.read_csv(r'train.csv')"
   ]
  },
  {
   "cell_type": "code",
   "execution_count": 4,
   "metadata": {},
   "outputs": [
    {
     "data": {
      "text/html": [
       "<div>\n",
       "<style scoped>\n",
       "    .dataframe tbody tr th:only-of-type {\n",
       "        vertical-align: middle;\n",
       "    }\n",
       "\n",
       "    .dataframe tbody tr th {\n",
       "        vertical-align: top;\n",
       "    }\n",
       "\n",
       "    .dataframe thead th {\n",
       "        text-align: right;\n",
       "    }\n",
       "</style>\n",
       "<table border=\"1\" class=\"dataframe\">\n",
       "  <thead>\n",
       "    <tr style=\"text-align: right;\">\n",
       "      <th></th>\n",
       "      <th>GameId</th>\n",
       "      <th>PlayId</th>\n",
       "      <th>Team</th>\n",
       "      <th>X</th>\n",
       "      <th>Y</th>\n",
       "      <th>S</th>\n",
       "      <th>A</th>\n",
       "      <th>Dis</th>\n",
       "      <th>Orientation</th>\n",
       "      <th>Dir</th>\n",
       "      <th>...</th>\n",
       "      <th>Week</th>\n",
       "      <th>Stadium</th>\n",
       "      <th>Location</th>\n",
       "      <th>StadiumType</th>\n",
       "      <th>Turf</th>\n",
       "      <th>GameWeather</th>\n",
       "      <th>Temperature</th>\n",
       "      <th>Humidity</th>\n",
       "      <th>WindSpeed</th>\n",
       "      <th>WindDirection</th>\n",
       "    </tr>\n",
       "  </thead>\n",
       "  <tbody>\n",
       "    <tr>\n",
       "      <th>0</th>\n",
       "      <td>2017090700</td>\n",
       "      <td>20170907000118</td>\n",
       "      <td>away</td>\n",
       "      <td>73.91</td>\n",
       "      <td>34.84</td>\n",
       "      <td>1.69</td>\n",
       "      <td>1.13</td>\n",
       "      <td>0.40</td>\n",
       "      <td>81.99</td>\n",
       "      <td>177.18</td>\n",
       "      <td>...</td>\n",
       "      <td>1</td>\n",
       "      <td>Gillette Stadium</td>\n",
       "      <td>Foxborough, MA</td>\n",
       "      <td>Outdoor</td>\n",
       "      <td>Field Turf</td>\n",
       "      <td>Clear and warm</td>\n",
       "      <td>63.0</td>\n",
       "      <td>77.0</td>\n",
       "      <td>8</td>\n",
       "      <td>SW</td>\n",
       "    </tr>\n",
       "    <tr>\n",
       "      <th>1</th>\n",
       "      <td>2017090700</td>\n",
       "      <td>20170907000118</td>\n",
       "      <td>away</td>\n",
       "      <td>74.67</td>\n",
       "      <td>32.64</td>\n",
       "      <td>0.42</td>\n",
       "      <td>1.35</td>\n",
       "      <td>0.01</td>\n",
       "      <td>27.61</td>\n",
       "      <td>198.70</td>\n",
       "      <td>...</td>\n",
       "      <td>1</td>\n",
       "      <td>Gillette Stadium</td>\n",
       "      <td>Foxborough, MA</td>\n",
       "      <td>Outdoor</td>\n",
       "      <td>Field Turf</td>\n",
       "      <td>Clear and warm</td>\n",
       "      <td>63.0</td>\n",
       "      <td>77.0</td>\n",
       "      <td>8</td>\n",
       "      <td>SW</td>\n",
       "    </tr>\n",
       "    <tr>\n",
       "      <th>2</th>\n",
       "      <td>2017090700</td>\n",
       "      <td>20170907000118</td>\n",
       "      <td>away</td>\n",
       "      <td>74.00</td>\n",
       "      <td>33.20</td>\n",
       "      <td>1.22</td>\n",
       "      <td>0.59</td>\n",
       "      <td>0.31</td>\n",
       "      <td>3.01</td>\n",
       "      <td>202.73</td>\n",
       "      <td>...</td>\n",
       "      <td>1</td>\n",
       "      <td>Gillette Stadium</td>\n",
       "      <td>Foxborough, MA</td>\n",
       "      <td>Outdoor</td>\n",
       "      <td>Field Turf</td>\n",
       "      <td>Clear and warm</td>\n",
       "      <td>63.0</td>\n",
       "      <td>77.0</td>\n",
       "      <td>8</td>\n",
       "      <td>SW</td>\n",
       "    </tr>\n",
       "    <tr>\n",
       "      <th>3</th>\n",
       "      <td>2017090700</td>\n",
       "      <td>20170907000118</td>\n",
       "      <td>away</td>\n",
       "      <td>71.46</td>\n",
       "      <td>27.70</td>\n",
       "      <td>0.42</td>\n",
       "      <td>0.54</td>\n",
       "      <td>0.02</td>\n",
       "      <td>359.77</td>\n",
       "      <td>105.64</td>\n",
       "      <td>...</td>\n",
       "      <td>1</td>\n",
       "      <td>Gillette Stadium</td>\n",
       "      <td>Foxborough, MA</td>\n",
       "      <td>Outdoor</td>\n",
       "      <td>Field Turf</td>\n",
       "      <td>Clear and warm</td>\n",
       "      <td>63.0</td>\n",
       "      <td>77.0</td>\n",
       "      <td>8</td>\n",
       "      <td>SW</td>\n",
       "    </tr>\n",
       "    <tr>\n",
       "      <th>4</th>\n",
       "      <td>2017090700</td>\n",
       "      <td>20170907000118</td>\n",
       "      <td>away</td>\n",
       "      <td>69.32</td>\n",
       "      <td>35.42</td>\n",
       "      <td>1.82</td>\n",
       "      <td>2.43</td>\n",
       "      <td>0.16</td>\n",
       "      <td>12.63</td>\n",
       "      <td>164.31</td>\n",
       "      <td>...</td>\n",
       "      <td>1</td>\n",
       "      <td>Gillette Stadium</td>\n",
       "      <td>Foxborough, MA</td>\n",
       "      <td>Outdoor</td>\n",
       "      <td>Field Turf</td>\n",
       "      <td>Clear and warm</td>\n",
       "      <td>63.0</td>\n",
       "      <td>77.0</td>\n",
       "      <td>8</td>\n",
       "      <td>SW</td>\n",
       "    </tr>\n",
       "  </tbody>\n",
       "</table>\n",
       "<p>5 rows × 49 columns</p>\n",
       "</div>"
      ],
      "text/plain": [
       "       GameId          PlayId  Team      X      Y     S     A   Dis  \\\n",
       "0  2017090700  20170907000118  away  73.91  34.84  1.69  1.13  0.40   \n",
       "1  2017090700  20170907000118  away  74.67  32.64  0.42  1.35  0.01   \n",
       "2  2017090700  20170907000118  away  74.00  33.20  1.22  0.59  0.31   \n",
       "3  2017090700  20170907000118  away  71.46  27.70  0.42  0.54  0.02   \n",
       "4  2017090700  20170907000118  away  69.32  35.42  1.82  2.43  0.16   \n",
       "\n",
       "   Orientation     Dir  ...  Week           Stadium        Location  \\\n",
       "0        81.99  177.18  ...     1  Gillette Stadium  Foxborough, MA   \n",
       "1        27.61  198.70  ...     1  Gillette Stadium  Foxborough, MA   \n",
       "2         3.01  202.73  ...     1  Gillette Stadium  Foxborough, MA   \n",
       "3       359.77  105.64  ...     1  Gillette Stadium  Foxborough, MA   \n",
       "4        12.63  164.31  ...     1  Gillette Stadium  Foxborough, MA   \n",
       "\n",
       "   StadiumType        Turf     GameWeather Temperature Humidity  WindSpeed  \\\n",
       "0      Outdoor  Field Turf  Clear and warm        63.0     77.0          8   \n",
       "1      Outdoor  Field Turf  Clear and warm        63.0     77.0          8   \n",
       "2      Outdoor  Field Turf  Clear and warm        63.0     77.0          8   \n",
       "3      Outdoor  Field Turf  Clear and warm        63.0     77.0          8   \n",
       "4      Outdoor  Field Turf  Clear and warm        63.0     77.0          8   \n",
       "\n",
       "   WindDirection  \n",
       "0             SW  \n",
       "1             SW  \n",
       "2             SW  \n",
       "3             SW  \n",
       "4             SW  \n",
       "\n",
       "[5 rows x 49 columns]"
      ]
     },
     "execution_count": 4,
     "metadata": {},
     "output_type": "execute_result"
    }
   ],
   "source": [
    "train.head()"
   ]
  },
  {
   "cell_type": "markdown",
   "metadata": {},
   "source": [
    "# Data Dictionary\n",
    "\n",
    "Each row in the file corresponds to a single player's involvement in a single play. The dataset was intentionally joined (i.e. denormalized) to make the API simple. All the columns are contained in one large dataframe which is grouped and provided by PlayId.\n",
    "\n",
    "- GameId - a unique game identifier\n",
    "- PlayId - a unique play identifier\n",
    "- Team - home or away\n",
    "- X - player position along the long axis of the field. See figure below.\n",
    "- Y - player position along the short axis of the field. See figure below.\n",
    "- S - speed in yards/second\n",
    "- A - acceleration in yards/second^2\n",
    "- Dis - distance traveled from prior time point, in yards\n",
    "- Orientation - orientation of player (deg)\n",
    "- Dir - angle of player motion (deg)\n",
    "- NflId - a unique identifier of the player\n",
    "- DisplayName - player's name\n",
    "- JerseyNumber - jersey number\n",
    "- Season - year of the season\n",
    "- YardLine - the yard line of the line of scrimmage\n",
    "- Quarter - game quarter (1-5, 5 == overtime)\n",
    "- GameClock - time on the game clock\n",
    "- PossessionTeam - team with possession\n",
    "- Down - the down (1-4)\n",
    "- Distance - yards needed for a first down\n",
    "- c - which side of the field the play is happening on\n",
    "- HomeScoreBeforePlay - home team score before play started\n",
    "- VisitorScoreBeforePlay - visitor team score before play started\n",
    "- NflIdRusher - the NflId of the rushing player\n",
    "- OffenseFormation - offense formation\n",
    "- OffensePersonnel - offensive team positional grouping\n",
    "- DefendersInTheBox - number of defenders lined up near the line of scrimmage, spanning the width of the offensive line\n",
    "- DefensePersonnel - defensive team positional grouping\n",
    "- PlayDirection - direction the play is headed\n",
    "- TimeHandoff - UTC time of the handoff\n",
    "- TimeSnap - UTC time of the snap\n",
    "- Yards - the yardage gained on the play (you are predicting this)\n",
    "- PlayerHeight - player height (ft-in)\n",
    "- PlayerWeight - player weight (lbs)\n",
    "- PlayerBirthDate - birth date (mm/dd/yyyy)\n",
    "- PlayerCollegeName - where the player attended college\n",
    "- Position - the player's position (the specific role on the field that they typically play)\n",
    "- HomeTeamAbbr - home team abbreviation\n",
    "- VisitorTeamAbbr - visitor team abbreviation\n",
    "- Week - week into the season\n",
    "- Stadium - stadium where the game is being played\n",
    "- Location - city where the game is being played\n",
    "- StadiumType - description of the stadium environment\n",
    "- Turf - description of the field surface\n",
    "- GameWeather - description of the game weather\n",
    "- Temperature - temperature (deg F)\n",
    "- Humidity - humidity\n",
    "- WindSpeed - wind speed in miles/hour\n",
    "- WindDirection - wind direction"
   ]
  },
  {
   "cell_type": "code",
   "execution_count": 7,
   "metadata": {},
   "outputs": [
    {
     "data": {
      "text/html": [
       "<div>\n",
       "<style scoped>\n",
       "    .dataframe tbody tr th:only-of-type {\n",
       "        vertical-align: middle;\n",
       "    }\n",
       "\n",
       "    .dataframe tbody tr th {\n",
       "        vertical-align: top;\n",
       "    }\n",
       "\n",
       "    .dataframe thead th {\n",
       "        text-align: right;\n",
       "    }\n",
       "</style>\n",
       "<table border=\"1\" class=\"dataframe\">\n",
       "  <thead>\n",
       "    <tr style=\"text-align: right;\">\n",
       "      <th></th>\n",
       "      <th>GameId</th>\n",
       "      <th>PlayId</th>\n",
       "      <th>X</th>\n",
       "      <th>Y</th>\n",
       "      <th>S</th>\n",
       "      <th>A</th>\n",
       "      <th>Dis</th>\n",
       "      <th>Orientation</th>\n",
       "      <th>Dir</th>\n",
       "      <th>NflId</th>\n",
       "      <th>...</th>\n",
       "      <th>Distance</th>\n",
       "      <th>HomeScoreBeforePlay</th>\n",
       "      <th>VisitorScoreBeforePlay</th>\n",
       "      <th>NflIdRusher</th>\n",
       "      <th>DefendersInTheBox</th>\n",
       "      <th>Yards</th>\n",
       "      <th>PlayerWeight</th>\n",
       "      <th>Week</th>\n",
       "      <th>Temperature</th>\n",
       "      <th>Humidity</th>\n",
       "    </tr>\n",
       "  </thead>\n",
       "  <tbody>\n",
       "    <tr>\n",
       "      <th>count</th>\n",
       "      <td>6.821540e+05</td>\n",
       "      <td>6.821540e+05</td>\n",
       "      <td>682154.000000</td>\n",
       "      <td>682154.000000</td>\n",
       "      <td>682154.000000</td>\n",
       "      <td>682154.000000</td>\n",
       "      <td>682154.000000</td>\n",
       "      <td>682131.000000</td>\n",
       "      <td>682126.000000</td>\n",
       "      <td>6.821540e+05</td>\n",
       "      <td>...</td>\n",
       "      <td>682154.000000</td>\n",
       "      <td>682154.000000</td>\n",
       "      <td>682154.000000</td>\n",
       "      <td>6.821540e+05</td>\n",
       "      <td>682132.000000</td>\n",
       "      <td>682154.000000</td>\n",
       "      <td>682154.000000</td>\n",
       "      <td>682154.000000</td>\n",
       "      <td>618508.000000</td>\n",
       "      <td>675994.000000</td>\n",
       "    </tr>\n",
       "    <tr>\n",
       "      <th>mean</th>\n",
       "      <td>2.017975e+09</td>\n",
       "      <td>2.017975e+13</td>\n",
       "      <td>60.036863</td>\n",
       "      <td>26.791456</td>\n",
       "      <td>2.634598</td>\n",
       "      <td>1.701739</td>\n",
       "      <td>0.278193</td>\n",
       "      <td>179.996742</td>\n",
       "      <td>180.040620</td>\n",
       "      <td>2.369743e+06</td>\n",
       "      <td>...</td>\n",
       "      <td>8.319154</td>\n",
       "      <td>11.047989</td>\n",
       "      <td>9.762570</td>\n",
       "      <td>2.446079e+06</td>\n",
       "      <td>6.910340</td>\n",
       "      <td>4.227626</td>\n",
       "      <td>253.414628</td>\n",
       "      <td>8.401587</td>\n",
       "      <td>62.010066</td>\n",
       "      <td>54.741563</td>\n",
       "    </tr>\n",
       "    <tr>\n",
       "      <th>std</th>\n",
       "      <td>7.844593e+05</td>\n",
       "      <td>7.844593e+09</td>\n",
       "      <td>25.499310</td>\n",
       "      <td>7.192919</td>\n",
       "      <td>1.404773</td>\n",
       "      <td>0.991380</td>\n",
       "      <td>0.145218</td>\n",
       "      <td>102.794554</td>\n",
       "      <td>106.189491</td>\n",
       "      <td>6.053648e+05</td>\n",
       "      <td>...</td>\n",
       "      <td>3.818716</td>\n",
       "      <td>10.095556</td>\n",
       "      <td>9.532945</td>\n",
       "      <td>4.833287e+05</td>\n",
       "      <td>0.985065</td>\n",
       "      <td>6.449866</td>\n",
       "      <td>48.469869</td>\n",
       "      <td>4.808791</td>\n",
       "      <td>17.071117</td>\n",
       "      <td>25.146693</td>\n",
       "    </tr>\n",
       "    <tr>\n",
       "      <th>min</th>\n",
       "      <td>2.017091e+09</td>\n",
       "      <td>2.017091e+13</td>\n",
       "      <td>0.660000</td>\n",
       "      <td>1.850000</td>\n",
       "      <td>0.000000</td>\n",
       "      <td>0.000000</td>\n",
       "      <td>0.000000</td>\n",
       "      <td>0.000000</td>\n",
       "      <td>0.000000</td>\n",
       "      <td>2.220000e+02</td>\n",
       "      <td>...</td>\n",
       "      <td>1.000000</td>\n",
       "      <td>0.000000</td>\n",
       "      <td>0.000000</td>\n",
       "      <td>2.340000e+02</td>\n",
       "      <td>2.000000</td>\n",
       "      <td>-15.000000</td>\n",
       "      <td>153.000000</td>\n",
       "      <td>1.000000</td>\n",
       "      <td>9.000000</td>\n",
       "      <td>0.000000</td>\n",
       "    </tr>\n",
       "    <tr>\n",
       "      <th>25%</th>\n",
       "      <td>2.017113e+09</td>\n",
       "      <td>2.017113e+13</td>\n",
       "      <td>39.080000</td>\n",
       "      <td>22.760000</td>\n",
       "      <td>1.520000</td>\n",
       "      <td>0.950000</td>\n",
       "      <td>0.160000</td>\n",
       "      <td>90.060000</td>\n",
       "      <td>90.150000</td>\n",
       "      <td>2.532989e+06</td>\n",
       "      <td>...</td>\n",
       "      <td>6.000000</td>\n",
       "      <td>3.000000</td>\n",
       "      <td>0.000000</td>\n",
       "      <td>2.540269e+06</td>\n",
       "      <td>6.000000</td>\n",
       "      <td>1.000000</td>\n",
       "      <td>210.000000</td>\n",
       "      <td>4.000000</td>\n",
       "      <td>50.000000</td>\n",
       "      <td>43.000000</td>\n",
       "    </tr>\n",
       "    <tr>\n",
       "      <th>50%</th>\n",
       "      <td>2.018101e+09</td>\n",
       "      <td>2.018101e+13</td>\n",
       "      <td>60.230000</td>\n",
       "      <td>26.800000</td>\n",
       "      <td>2.510000</td>\n",
       "      <td>1.550000</td>\n",
       "      <td>0.270000</td>\n",
       "      <td>179.640000</td>\n",
       "      <td>180.180000</td>\n",
       "      <td>2.550541e+06</td>\n",
       "      <td>...</td>\n",
       "      <td>10.000000</td>\n",
       "      <td>10.000000</td>\n",
       "      <td>7.000000</td>\n",
       "      <td>2.555224e+06</td>\n",
       "      <td>7.000000</td>\n",
       "      <td>3.000000</td>\n",
       "      <td>245.000000</td>\n",
       "      <td>8.000000</td>\n",
       "      <td>64.000000</td>\n",
       "      <td>59.000000</td>\n",
       "    </tr>\n",
       "    <tr>\n",
       "      <th>75%</th>\n",
       "      <td>2.019091e+09</td>\n",
       "      <td>2.019091e+13</td>\n",
       "      <td>80.990000</td>\n",
       "      <td>30.850000</td>\n",
       "      <td>3.620000</td>\n",
       "      <td>2.310000</td>\n",
       "      <td>0.390000</td>\n",
       "      <td>269.780000</td>\n",
       "      <td>270.260000</td>\n",
       "      <td>2.556445e+06</td>\n",
       "      <td>...</td>\n",
       "      <td>10.000000</td>\n",
       "      <td>17.000000</td>\n",
       "      <td>16.000000</td>\n",
       "      <td>2.558116e+06</td>\n",
       "      <td>7.000000</td>\n",
       "      <td>6.000000</td>\n",
       "      <td>305.000000</td>\n",
       "      <td>12.000000</td>\n",
       "      <td>75.000000</td>\n",
       "      <td>71.000000</td>\n",
       "    </tr>\n",
       "    <tr>\n",
       "      <th>max</th>\n",
       "      <td>2.019112e+09</td>\n",
       "      <td>2.019113e+13</td>\n",
       "      <td>117.650000</td>\n",
       "      <td>56.450000</td>\n",
       "      <td>9.410000</td>\n",
       "      <td>14.710000</td>\n",
       "      <td>1.390000</td>\n",
       "      <td>360.000000</td>\n",
       "      <td>360.000000</td>\n",
       "      <td>2.563364e+06</td>\n",
       "      <td>...</td>\n",
       "      <td>40.000000</td>\n",
       "      <td>57.000000</td>\n",
       "      <td>59.000000</td>\n",
       "      <td>2.563327e+06</td>\n",
       "      <td>11.000000</td>\n",
       "      <td>99.000000</td>\n",
       "      <td>380.000000</td>\n",
       "      <td>17.000000</td>\n",
       "      <td>97.000000</td>\n",
       "      <td>100.000000</td>\n",
       "    </tr>\n",
       "  </tbody>\n",
       "</table>\n",
       "<p>8 rows × 25 columns</p>\n",
       "</div>"
      ],
      "text/plain": [
       "             GameId        PlayId              X              Y  \\\n",
       "count  6.821540e+05  6.821540e+05  682154.000000  682154.000000   \n",
       "mean   2.017975e+09  2.017975e+13      60.036863      26.791456   \n",
       "std    7.844593e+05  7.844593e+09      25.499310       7.192919   \n",
       "min    2.017091e+09  2.017091e+13       0.660000       1.850000   \n",
       "25%    2.017113e+09  2.017113e+13      39.080000      22.760000   \n",
       "50%    2.018101e+09  2.018101e+13      60.230000      26.800000   \n",
       "75%    2.019091e+09  2.019091e+13      80.990000      30.850000   \n",
       "max    2.019112e+09  2.019113e+13     117.650000      56.450000   \n",
       "\n",
       "                   S              A            Dis    Orientation  \\\n",
       "count  682154.000000  682154.000000  682154.000000  682131.000000   \n",
       "mean        2.634598       1.701739       0.278193     179.996742   \n",
       "std         1.404773       0.991380       0.145218     102.794554   \n",
       "min         0.000000       0.000000       0.000000       0.000000   \n",
       "25%         1.520000       0.950000       0.160000      90.060000   \n",
       "50%         2.510000       1.550000       0.270000     179.640000   \n",
       "75%         3.620000       2.310000       0.390000     269.780000   \n",
       "max         9.410000      14.710000       1.390000     360.000000   \n",
       "\n",
       "                 Dir         NflId  ...       Distance  HomeScoreBeforePlay  \\\n",
       "count  682126.000000  6.821540e+05  ...  682154.000000        682154.000000   \n",
       "mean      180.040620  2.369743e+06  ...       8.319154            11.047989   \n",
       "std       106.189491  6.053648e+05  ...       3.818716            10.095556   \n",
       "min         0.000000  2.220000e+02  ...       1.000000             0.000000   \n",
       "25%        90.150000  2.532989e+06  ...       6.000000             3.000000   \n",
       "50%       180.180000  2.550541e+06  ...      10.000000            10.000000   \n",
       "75%       270.260000  2.556445e+06  ...      10.000000            17.000000   \n",
       "max       360.000000  2.563364e+06  ...      40.000000            57.000000   \n",
       "\n",
       "       VisitorScoreBeforePlay   NflIdRusher  DefendersInTheBox          Yards  \\\n",
       "count           682154.000000  6.821540e+05      682132.000000  682154.000000   \n",
       "mean                 9.762570  2.446079e+06           6.910340       4.227626   \n",
       "std                  9.532945  4.833287e+05           0.985065       6.449866   \n",
       "min                  0.000000  2.340000e+02           2.000000     -15.000000   \n",
       "25%                  0.000000  2.540269e+06           6.000000       1.000000   \n",
       "50%                  7.000000  2.555224e+06           7.000000       3.000000   \n",
       "75%                 16.000000  2.558116e+06           7.000000       6.000000   \n",
       "max                 59.000000  2.563327e+06          11.000000      99.000000   \n",
       "\n",
       "        PlayerWeight           Week    Temperature       Humidity  \n",
       "count  682154.000000  682154.000000  618508.000000  675994.000000  \n",
       "mean      253.414628       8.401587      62.010066      54.741563  \n",
       "std        48.469869       4.808791      17.071117      25.146693  \n",
       "min       153.000000       1.000000       9.000000       0.000000  \n",
       "25%       210.000000       4.000000      50.000000      43.000000  \n",
       "50%       245.000000       8.000000      64.000000      59.000000  \n",
       "75%       305.000000      12.000000      75.000000      71.000000  \n",
       "max       380.000000      17.000000      97.000000     100.000000  \n",
       "\n",
       "[8 rows x 25 columns]"
      ]
     },
     "execution_count": 7,
     "metadata": {},
     "output_type": "execute_result"
    }
   ],
   "source": [
    "train.describe()"
   ]
  },
  {
   "cell_type": "code",
   "execution_count": 10,
   "metadata": {},
   "outputs": [
    {
     "data": {
      "text/plain": [
       "Index(['GameId', 'PlayId', 'Team', 'X', 'Y', 'S', 'A', 'Dis', 'Orientation',\n",
       "       'Dir', 'NflId', 'DisplayName', 'JerseyNumber', 'Season', 'YardLine',\n",
       "       'Quarter', 'GameClock', 'PossessionTeam', 'Down', 'Distance',\n",
       "       'FieldPosition', 'HomeScoreBeforePlay', 'VisitorScoreBeforePlay',\n",
       "       'NflIdRusher', 'OffenseFormation', 'OffensePersonnel',\n",
       "       'DefendersInTheBox', 'DefensePersonnel', 'PlayDirection', 'TimeHandoff',\n",
       "       'TimeSnap', 'Yards', 'PlayerHeight', 'PlayerWeight', 'PlayerBirthDate',\n",
       "       'PlayerCollegeName', 'Position', 'HomeTeamAbbr', 'VisitorTeamAbbr',\n",
       "       'Week', 'Stadium', 'Location', 'StadiumType', 'Turf', 'GameWeather',\n",
       "       'Temperature', 'Humidity', 'WindSpeed', 'WindDirection'],\n",
       "      dtype='object')"
      ]
     },
     "execution_count": 10,
     "metadata": {},
     "output_type": "execute_result"
    }
   ],
   "source": [
    "train.columns"
   ]
  },
  {
   "cell_type": "code",
   "execution_count": 11,
   "metadata": {},
   "outputs": [
    {
     "data": {
      "text/plain": [
       "0         8\n",
       "1         8\n",
       "2         8\n",
       "3         8\n",
       "4         8\n",
       "         ..\n",
       "682149    5\n",
       "682150    5\n",
       "682151    5\n",
       "682152    5\n",
       "682153    5\n",
       "Name: WindSpeed, Length: 682154, dtype: object"
      ]
     },
     "execution_count": 11,
     "metadata": {},
     "output_type": "execute_result"
    }
   ],
   "source": [
    "train.WindSpeed"
   ]
  },
  {
   "cell_type": "code",
   "execution_count": 21,
   "metadata": {},
   "outputs": [
    {
     "name": "stdout",
     "output_type": "stream",
     "text": [
      "Number of Games:  688\n",
      "Number of Plays:  31007\n",
      "Number of Seasons:  [2017, 2018, 2019]\n"
     ]
    }
   ],
   "source": [
    "print(\"Number of Games: \", train.GameId.nunique())\n",
    "print(\"Number of Plays: \", train.PlayId.nunique())\n",
    "print(\"Number of Seasons: \", train.Season.unique().tolist())"
   ]
  },
  {
   "cell_type": "code",
   "execution_count": 37,
   "metadata": {},
   "outputs": [
    {
     "data": {
      "text/plain": [
       "Text(0, 0.5, 'Count')"
      ]
     },
     "execution_count": 37,
     "metadata": {},
     "output_type": "execute_result"
    },
    {
     "data": {
      "image/png": "[encoded data removed]",
      "text/plain": [
       "<Figure size 432x288 with 1 Axes>"
      ]
     },
     "metadata": {
      "needs_background": "light"
     },
     "output_type": "display_data"
    }
   ],
   "source": [
    "plt.hist(train.Yards, bins = 100)\n",
    "plt.title('Distribution of Total Yards')\n",
    "plt.ylabel('Count')"
   ]
  },
  {
   "cell_type": "code",
   "execution_count": 39,
   "metadata": {},
   "outputs": [
    {
     "name": "stdout",
     "output_type": "stream",
     "text": [
      "Most common yards per play:  0    2\n",
      "dtype: int64\n",
      "Max Yards gained:  99\n",
      "Min Yards gained:  -15\n"
     ]
    }
   ],
   "source": [
    "print(\"Most common yards per play: \", train.Yards.mode())\n",
    "print(\"Max Yards gained: \", train.Yards.max())\n",
    "print(\"Min Yards gained: \", train.Yards.min())"
   ]
  },
  {
   "cell_type": "markdown",
   "metadata": {},
   "source": [
    "0 and 2 yards had the maximum counts.\n",
    "The distribution of the gains appears normal with a right skew.  The most yards gained in a single play was 99, while the biggest loss was 15 yards."
   ]
  },
  {
   "cell_type": "markdown",
   "metadata": {},
   "source": [
    "Credit to Rob Mulla for the [code](https://www.kaggle.com/robikscube/nfl-big-data-bowl-plotting-player-position) to create the playing field.\n",
    "\n"
   ]
  },
  {
   "cell_type": "code",
   "execution_count": 44,
   "metadata": {},
   "outputs": [
    {
     "data": {
      "image/png": "[encoded data removed]",
      "text/plain": [
       "<Figure size 1728x911.52 with 1 Axes>"
      ]
     },
     "metadata": {
      "needs_background": "light"
     },
     "output_type": "display_data"
    }
   ],
   "source": [
    "def create_football_field(linenumbers=True,\n",
    "                          endzones=True,\n",
    "                          highlight_line=False,\n",
    "                          highlight_line_number=50,\n",
    "                          highlighted_name='Line of Scrimmage',\n",
    "                          fifty_is_los=False,\n",
    "                          figsize=(12*2, 6.33*2)):\n",
    "    \"\"\"\n",
    "    Function that plots the football field for viewing plays.\n",
    "    Allows for showing or hiding endzones.\n",
    "    \"\"\"\n",
    "    rect = patches.Rectangle((0, 0), 120, 53.3, linewidth=0.1,\n",
    "                             edgecolor='r', facecolor='darkgreen', zorder=0)\n",
    "\n",
    "    fig, ax = plt.subplots(1, figsize=figsize)\n",
    "    ax.add_patch(rect)\n",
    "\n",
    "    plt.plot([10, 10, 10, 20, 20, 30, 30, 40, 40, 50, 50, 60, 60, 70, 70, 80,\n",
    "              80, 90, 90, 100, 100, 110, 110, 120, 0, 0, 120, 120],\n",
    "             [0, 0, 53.3, 53.3, 0, 0, 53.3, 53.3, 0, 0, 53.3, 53.3, 0, 0, 53.3,\n",
    "              53.3, 0, 0, 53.3, 53.3, 0, 0, 53.3, 53.3, 53.3, 0, 0, 53.3],\n",
    "             color='white')\n",
    "    if fifty_is_los:\n",
    "        plt.plot([60, 60], [0, 53.3], color='gold')\n",
    "        plt.text(62, 50, '<- Player Yardline at Snap', color='gold')\n",
    "    # Endzones\n",
    "    if endzones:\n",
    "        ez1 = patches.Rectangle((0, 0), 10, 53.3,\n",
    "                                linewidth=0.1,\n",
    "                                edgecolor='r',\n",
    "                                facecolor='blue',\n",
    "                                alpha=0.2,\n",
    "                                zorder=0)\n",
    "        ez2 = patches.Rectangle((110, 0), 120, 53.3,\n",
    "                                linewidth=0.1,\n",
    "                                edgecolor='r',\n",
    "                                facecolor='blue',\n",
    "                                alpha=0.2,\n",
    "                                zorder=0)\n",
    "        ax.add_patch(ez1)\n",
    "        ax.add_patch(ez2)\n",
    "    plt.xlim(0, 120)\n",
    "    plt.ylim(-5, 58.3)\n",
    "    plt.axis('off')\n",
    "    if linenumbers:\n",
    "        for x in range(20, 110, 10):\n",
    "            numb = x\n",
    "            if x > 50:\n",
    "                numb = 120 - x\n",
    "            plt.text(x, 5, str(numb - 10),\n",
    "                     horizontalalignment='center',\n",
    "                     fontsize=20,  # fontname='Arial',\n",
    "                     color='white')\n",
    "            plt.text(x - 0.95, 53.3 - 5, str(numb - 10),\n",
    "                     horizontalalignment='center',\n",
    "                     fontsize=20,  # fontname='Arial',\n",
    "                     color='white', rotation=180)\n",
    "    if endzones:\n",
    "        hash_range = range(11, 110)\n",
    "    else:\n",
    "        hash_range = range(1, 120)\n",
    "\n",
    "    for x in hash_range:\n",
    "        ax.plot([x, x], [0.4, 0.7], color='white')\n",
    "        ax.plot([x, x], [53.0, 52.5], color='white')\n",
    "        ax.plot([x, x], [22.91, 23.57], color='white')\n",
    "        ax.plot([x, x], [29.73, 30.39], color='white')\n",
    "\n",
    "    if highlight_line:\n",
    "        hl = highlight_line_number + 10\n",
    "        plt.plot([hl, hl], [0, 53.3], color='yellow')\n",
    "        plt.text(hl + 2, 50, '<- {}'.format(highlighted_name),\n",
    "                 color='yellow')\n",
    "    return fig, ax\n",
    "\n",
    "create_football_field()\n",
    "plt.show()"
   ]
  },
  {
   "cell_type": "code",
   "execution_count": null,
   "metadata": {},
   "outputs": [],
   "source": []
  },
  {
   "cell_type": "markdown",
   "metadata": {},
   "source": [
    "# Direction and Spacing\n",
    "\n",
    "The hypothesis is a strong predictor in this problem will be the amount of space the ball carrier had when he received the ball.  \n",
    "\n",
    "We will look at how spacing and the direction the player is traveling in impacts the gain.  To represent this visually, \n",
    "\n",
    "- Ball carrier is in red\n",
    "- Direction of movement is shown with the arrow\n",
    "- Home team is in blue\n",
    "- Away team is in orange"
   ]
  },
  {
   "cell_type": "code",
   "execution_count": 100,
   "metadata": {},
   "outputs": [],
   "source": [
    "def get_dx_dy(angle, dist):\n",
    "    cartesianAngleRadians = (450-angle)*math.pi/180.0\n",
    "    dx = dist * math.cos(cartesianAngleRadians)\n",
    "    dy = dist * math.sin(cartesianAngleRadians)\n",
    "    return dx, dy\n",
    "\n",
    "def plot_field(train, play_id      ):\n",
    "    \n",
    "    fig, ax = create_football_field()\n",
    "    train.query(\"PlayId == @play_id and Team == 'away'\") \\\n",
    "        .plot(x='X', y='Y', kind='scatter', ax=ax, color='orange', s=50, legend='Away')\n",
    "    train.query(\"PlayId == @play_id and Team == 'home'\") \\\n",
    "        .plot(x='X', y='Y', kind='scatter', ax=ax, color='blue', s=50, legend='Home')\n",
    "    train.query(\"PlayId == @play_id and NflIdRusher == NflId\") \\\n",
    "        .plot(x='X', y='Y', kind='scatter', ax=ax, color='red', s=100, legend='Rusher')\n",
    "    rusher_row = train.query(\"PlayId == @play_id and NflIdRusher == NflId\")\n",
    "    yards_covered = rusher_row[\"Yards\"].values[0]\n",
    "\n",
    "    x = rusher_row[\"X\"].values[0]\n",
    "    y = rusher_row[\"Y\"].values[0]\n",
    "    rusher_dir = rusher_row[\"Dir\"].values[0]\n",
    "    rusher_speed = rusher_row[\"S\"].values[0]\n",
    "    dx, dy = get_dx_dy(rusher_dir, rusher_speed)\n",
    "\n",
    "    ax.arrow(x, y, dx, dy, length_includes_head=True, width=0.3)\n",
    "    plt.title(f'Play # {play_id} and yard distance is {yards_covered}', fontsize=20)\n",
    "    plt.legend()\n",
    "    return plt.show()"
   ]
  },
  {
   "cell_type": "markdown",
   "metadata": {},
   "source": []
  },
  {
   "cell_type": "code",
   "execution_count": 147,
   "metadata": {},
   "outputs": [
    {
     "name": "stderr",
     "output_type": "stream",
     "text": [
      "No handles with labels found to put in legend.\n"
     ]
    },
    {
     "data": {
      "image/png": "[encoded data removed]",
      "text/plain": [
       "<Figure size 1728x911.52 with 1 Axes>"
      ]
     },
     "metadata": {
      "needs_background": "light"
     },
     "output_type": "display_data"
    }
   ],
   "source": [
    "plot_field(train, 20181007011551)"
   ]
  },
  {
   "cell_type": "code",
   "execution_count": null,
   "metadata": {},
   "outputs": [],
   "source": []
  },
  {
   "cell_type": "markdown",
   "metadata": {},
   "source": [
    "# EXPLORATORY DATA ANALYSIS"
   ]
  },
  {
   "cell_type": "markdown",
   "metadata": {},
   "source": [
    "## Preliminary Data Preparation & Cleaning"
   ]
  },
  {
   "cell_type": "markdown",
   "metadata": {},
   "source": [
    "The direction variable can be a bit confusion since it is the degree the player is moving relative to the play direction.  For this reason we will need to clean the variable such that the degree of player movement is representative of forward movement vs. backward movement.  We will adjust our variable so any angle between 0<x<180 represents forward movement, with 90 degree being straight down field, and 180 < x < 360 represents backward movement."
   ]
  },
  {
   "cell_type": "code",
   "execution_count": null,
   "metadata": {},
   "outputs": [],
   "source": []
  },
  {
   "cell_type": "code",
   "execution_count": 49,
   "metadata": {},
   "outputs": [
    {
     "data": {
      "text/plain": [
       "Index(['GameId', 'PlayId', 'Team', 'X', 'Y', 'S', 'A', 'Dis', 'Orientation',\n",
       "       'Dir', 'NflId', 'DisplayName', 'JerseyNumber', 'Season', 'YardLine',\n",
       "       'Quarter', 'GameClock', 'PossessionTeam', 'Down', 'Distance',\n",
       "       'FieldPosition', 'HomeScoreBeforePlay', 'VisitorScoreBeforePlay',\n",
       "       'NflIdRusher', 'OffenseFormation', 'OffensePersonnel',\n",
       "       'DefendersInTheBox', 'DefensePersonnel', 'PlayDirection', 'TimeHandoff',\n",
       "       'TimeSnap', 'Yards', 'PlayerHeight', 'PlayerWeight', 'PlayerBirthDate',\n",
       "       'PlayerCollegeName', 'Position', 'HomeTeamAbbr', 'VisitorTeamAbbr',\n",
       "       'Week', 'Stadium', 'Location', 'StadiumType', 'Turf', 'GameWeather',\n",
       "       'Temperature', 'Humidity', 'WindSpeed', 'WindDirection'],\n",
       "      dtype='object')"
      ]
     },
     "execution_count": 49,
     "metadata": {},
     "output_type": "execute_result"
    }
   ],
   "source": [
    "train.columns"
   ]
  },
  {
   "cell_type": "markdown",
   "metadata": {},
   "source": [
    "Lets adjust the PlayDirection variable to be 1 if the play is moving right and 0 if its moving left.\n",
    "\n",
    "Also lets adjust the dir variable based on the direction of the play."
   ]
  },
  {
   "cell_type": "code",
   "execution_count": 87,
   "metadata": {},
   "outputs": [],
   "source": [
    "\n",
    "train['PlayDirection'] = train['PlayDirection'].apply(lambda x: x.strip() == 'right')\n",
    "\n",
    "def new_orientation(angle, play_direction):\n",
    "    if play_direction == 0:\n",
    "        new_angle = 360.0 - angle\n",
    "        if new_angle == 360.0:\n",
    "            new_angle = 0.0\n",
    "        return new_angle\n",
    "    else:\n",
    "        return angle\n",
    "\n",
    "train['Orientation'] = train.apply(lambda row: new_orientation(row['Orientation'], row['PlayDirection']), axis=1)\n",
    "train['Dir'] = train.apply(lambda row: new_orientation(row['Dir'], row['PlayDirection']), axis=1)    "
   ]
  },
  {
   "cell_type": "code",
   "execution_count": null,
   "metadata": {},
   "outputs": [],
   "source": [
    "plot_field(train, 20181007011551)"
   ]
  },
  {
   "cell_type": "code",
   "execution_count": null,
   "metadata": {},
   "outputs": [],
   "source": []
  },
  {
   "cell_type": "markdown",
   "metadata": {},
   "source": [
    "From the graphic below, you can clearly see the opportunity of a large gain in total yard gains are very often less when the rusher starts off with backward motion (between 180 and 360 degrees).  However the average and median yard gains are actually greater when the rusher has some type of backward motion."
   ]
  },
  {
   "cell_type": "code",
   "execution_count": 113,
   "metadata": {},
   "outputs": [
    {
     "data": {
      "text/plain": [
       "Text(0.5, 1.0, 'Yards Gained vs. Angle of Moement of Rusher')"
      ]
     },
     "execution_count": 113,
     "metadata": {},
     "output_type": "execute_result"
    },
    {
     "data": {
      "image/png": "[encoded data removed]",
      "text/plain": [
       "<Figure size 432x288 with 1 Axes>"
      ]
     },
     "metadata": {
      "needs_background": "light"
     },
     "output_type": "display_data"
    }
   ],
   "source": [
    "rushers = train[ (train.NflIdRusher == train.NflId)]\n",
    "plt.scatter(rushers.Dir,rushers.Yards)\n",
    "plt.xlabel('Angle Of Movement of Rusher')\n",
    "plt.ylabel('Yards Gained')\n",
    "plt.title('Yards Gained vs. Angle of Moement of Rusher')"
   ]
  },
  {
   "cell_type": "code",
   "execution_count": 120,
   "metadata": {},
   "outputs": [
    {
     "name": "stderr",
     "output_type": "stream",
     "text": [
      "C:\\ProgramData\\Anaconda3\\lib\\site-packages\\ipykernel_launcher.py:1: SettingWithCopyWarning: \n",
      "A value is trying to be set on a copy of a slice from a DataFrame.\n",
      "Try using .loc[row_indexer,col_indexer] = value instead\n",
      "\n",
      "See the caveats in the documentation: https://pandas.pydata.org/pandas-docs/stable/user_guide/indexing.html#returning-a-view-versus-a-copy\n",
      "  \"\"\"Entry point for launching an IPython kernel.\n"
     ]
    },
    {
     "data": {
      "text/html": [
       "<div>\n",
       "<style scoped>\n",
       "    .dataframe tbody tr th:only-of-type {\n",
       "        vertical-align: middle;\n",
       "    }\n",
       "\n",
       "    .dataframe tbody tr th {\n",
       "        vertical-align: top;\n",
       "    }\n",
       "\n",
       "    .dataframe thead th {\n",
       "        text-align: right;\n",
       "    }\n",
       "</style>\n",
       "<table border=\"1\" class=\"dataframe\">\n",
       "  <thead>\n",
       "    <tr style=\"text-align: right;\">\n",
       "      <th></th>\n",
       "      <th>Avg_Yards</th>\n",
       "      <th>Median_Yards</th>\n",
       "      <th>Mode_Yards</th>\n",
       "      <th>Max_Yards</th>\n",
       "    </tr>\n",
       "    <tr>\n",
       "      <th>RusherMotion</th>\n",
       "      <th></th>\n",
       "      <th></th>\n",
       "      <th></th>\n",
       "      <th></th>\n",
       "    </tr>\n",
       "  </thead>\n",
       "  <tbody>\n",
       "    <tr>\n",
       "      <th>Backward</th>\n",
       "      <td>5.364073</td>\n",
       "      <td>4</td>\n",
       "      <td>0</td>\n",
       "      <td>65</td>\n",
       "    </tr>\n",
       "    <tr>\n",
       "      <th>Forward</th>\n",
       "      <td>4.188147</td>\n",
       "      <td>3</td>\n",
       "      <td>2</td>\n",
       "      <td>99</td>\n",
       "    </tr>\n",
       "  </tbody>\n",
       "</table>\n",
       "</div>"
      ],
      "text/plain": [
       "              Avg_Yards  Median_Yards  Mode_Yards  Max_Yards\n",
       "RusherMotion                                                \n",
       "Backward       5.364073             4           0         65\n",
       "Forward        4.188147             3           2         99"
      ]
     },
     "execution_count": 120,
     "metadata": {},
     "output_type": "execute_result"
    }
   ],
   "source": [
    "rushers['RusherMotion'] = np.where(rushers.Dir<=180, 'Forward','Backward')\n",
    "rushers.groupby('RusherMotion').agg(\n",
    "    Avg_Yards = ('Yards','mean'),\n",
    "    Median_Yards = ('Yards','median'),\n",
    "    Mode_Yards = ('Yards',lambda x: x.value_counts().index[0]),\n",
    "    Max_Yards = ('Yards','max'))"
   ]
  },
  {
   "cell_type": "markdown",
   "metadata": {},
   "source": [
    "# Rusher Distance Traveled\n",
    "From the graph below you can see that the more distance traveled by the rusher at the time of handoff has a downward trend, meaning its best to minimize the distance traveled before you hand the ball off."
   ]
  },
  {
   "cell_type": "code",
   "execution_count": 130,
   "metadata": {},
   "outputs": [
    {
     "data": {
      "text/plain": [
       "Text(0.5, 1.0, 'Yards vs. Distance covered by Rusher')"
      ]
     },
     "execution_count": 130,
     "metadata": {},
     "output_type": "execute_result"
    },
    {
     "data": {
      "image/png": "[encoded data removed]",
      "text/plain": [
       "<Figure size 432x288 with 1 Axes>"
      ]
     },
     "metadata": {
      "needs_background": "light"
     },
     "output_type": "display_data"
    }
   ],
   "source": [
    "plt.scatter(rushers.Dis, rushers.Yards)\n",
    "plt.xlabel('Distance Traveled')\n",
    "plt.ylabel('Yards')\n",
    "plt.title('Yards vs. Distance covered by Rusher')"
   ]
  },
  {
   "cell_type": "markdown",
   "metadata": {},
   "source": [
    "# Rusher Speed\n",
    "\n",
    "Speed shows a similar trend, probably correlated with the distance traveled. In order to build up speed, the rusher needs distance to accelerate, but based on the above the more distance traveled negatively impacts the total yards.  We see a similar experience here that too high of speed negatively impacts total yards.  The sweet spot seems to be in the 2-6 yards per second bucket."
   ]
  },
  {
   "cell_type": "code",
   "execution_count": 131,
   "metadata": {},
   "outputs": [
    {
     "data": {
      "text/plain": [
       "Text(0.5, 1.0, 'Yards vs. Speed of Rusher')"
      ]
     },
     "execution_count": 131,
     "metadata": {},
     "output_type": "execute_result"
    },
    {
     "data": {
      "image/png": "[encoded data removed]",
      "text/plain": [
       "<Figure size 432x288 with 1 Axes>"
      ]
     },
     "metadata": {
      "needs_background": "light"
     },
     "output_type": "display_data"
    }
   ],
   "source": [
    "plt.scatter(rushers.S, rushers.Yards)\n",
    "plt.xlabel('Speed')\n",
    "plt.ylabel('Yards')\n",
    "plt.title('Yards vs. Speed of Rusher')"
   ]
  },
  {
   "cell_type": "markdown",
   "metadata": {},
   "source": [
    "# Rusher Acceleration\n",
    "Again similar story with acceleration.  The greater the acceleration the less total yards are gained.  \n"
   ]
  },
  {
   "cell_type": "code",
   "execution_count": 132,
   "metadata": {},
   "outputs": [
    {
     "data": {
      "text/plain": [
       "Text(0.5, 1.0, 'Yards vs. Acceleration of Rusher')"
      ]
     },
     "execution_count": 132,
     "metadata": {},
     "output_type": "execute_result"
    },
    {
     "data": {
      "image/png": "[encoded data removed]",
      "text/plain": [
       "<Figure size 432x288 with 1 Axes>"
      ]
     },
     "metadata": {
      "needs_background": "light"
     },
     "output_type": "display_data"
    }
   ],
   "source": [
    "plt.scatter(rushers.A, rushers.Yards)\n",
    "plt.xlabel('Acceleration')\n",
    "plt.ylabel('Yards')\n",
    "plt.title('Yards vs. Acceleration of Rusher')"
   ]
  },
  {
   "cell_type": "markdown",
   "metadata": {},
   "source": [
    "# Player Position\n",
    "If we check out the boxplot of total yards by player position, we see that Corner Backs tend to get the most yards, which the quarterbacks usually gain the least."
   ]
  },
  {
   "cell_type": "code",
   "execution_count": 138,
   "metadata": {},
   "outputs": [
    {
     "data": {
      "text/plain": [
       "Text(0.5, 1.0, 'Yards vs. Rusher Position')"
      ]
     },
     "execution_count": 138,
     "metadata": {},
     "output_type": "execute_result"
    },
    {
     "data": {
      "image/png": "[encoded data removed]",
      "text/plain": [
       "<Figure size 432x288 with 1 Axes>"
      ]
     },
     "metadata": {
      "needs_background": "light"
     },
     "output_type": "display_data"
    }
   ],
   "source": [
    "sns.boxplot(data=rushers, x='Position',y='Yards', showfliers=False)\n",
    "\n",
    "plt.xlabel('Player Position')\n",
    "plt.ylabel('Yards')\n",
    "plt.title('Yards vs. Rusher Position')"
   ]
  },
  {
   "cell_type": "markdown",
   "metadata": {},
   "source": [
    "# Total Rushers\n",
    "\n",
    "Not surpringly, the more defenders in the box, the less total yards gained.  This is clear with the boxplot below."
   ]
  },
  {
   "cell_type": "code",
   "execution_count": 143,
   "metadata": {},
   "outputs": [
    {
     "data": {
      "text/plain": [
       "Text(0.5, 1.0, 'Yards vs. Defenders in the box')"
      ]
     },
     "execution_count": 143,
     "metadata": {},
     "output_type": "execute_result"
    },
    {
     "data": {
      "image/png": "[encoded data removed]",
      "text/plain": [
       "<Figure size 432x288 with 1 Axes>"
      ]
     },
     "metadata": {
      "needs_background": "light"
     },
     "output_type": "display_data"
    }
   ],
   "source": [
    "sns.boxplot(data=rushers, x = 'DefendersInTheBox', y='Yards', showfliers = False)\n",
    "plt.title('Yards vs. Defenders in the box')"
   ]
  },
  {
   "cell_type": "code",
   "execution_count": null,
   "metadata": {},
   "outputs": [],
   "source": []
  },
  {
   "cell_type": "code",
   "execution_count": 145,
   "metadata": {},
   "outputs": [
    {
     "data": {
      "text/plain": [
       "Text(0.5, 1.0, 'Yards vs. Downs')"
      ]
     },
     "execution_count": 145,
     "metadata": {},
     "output_type": "execute_result"
    },
    {
     "data": {
      "image/png": "[encoded data removed]",
      "text/plain": [
       "<Figure size 432x288 with 1 Axes>"
      ]
     },
     "metadata": {
      "needs_background": "light"
     },
     "output_type": "display_data"
    }
   ],
   "source": [
    "sns.boxplot(data = rushers, x = 'Down',y='Yards', showfliers = False)\n",
    "plt.title('Yards vs. Downs')"
   ]
  },
  {
   "cell_type": "code",
   "execution_count": null,
   "metadata": {},
   "outputs": [],
   "source": []
  },
  {
   "cell_type": "markdown",
   "metadata": {},
   "source": [
    "## Yards by Team\n",
    "If we look at the total yards by team, most the teams have almost the exact same median and 25th percentile.  the New York Jets stand out with a median well below every other team. "
   ]
  },
  {
   "cell_type": "code",
   "execution_count": 157,
   "metadata": {},
   "outputs": [
    {
     "data": {
      "image/png": "[encoded data removed]",
      "text/plain": [
       "<Figure size 1152x720 with 1 Axes>"
      ]
     },
     "metadata": {
      "needs_background": "light"
     },
     "output_type": "display_data"
    }
   ],
   "source": [
    "plt.figure(figsize=(16,10))\n",
    "sns.boxplot(data = rushers, y='PossessionTeam',x='Yards',showfliers = False)\n",
    "plt.tight_layout()"
   ]
  },
  {
   "cell_type": "code",
   "execution_count": null,
   "metadata": {},
   "outputs": [],
   "source": []
  },
  {
   "cell_type": "code",
   "execution_count": null,
   "metadata": {},
   "outputs": [],
   "source": []
  },
  {
   "cell_type": "code",
   "execution_count": null,
   "metadata": {},
   "outputs": [],
   "source": []
  },
  {
   "cell_type": "code",
   "execution_count": null,
   "metadata": {},
   "outputs": [],
   "source": []
  }
 ],
 "metadata": {
  "kernelspec": {
   "display_name": "Python 3",
   "language": "python",
   "name": "python3"
  },
  "language_info": {
   "codemirror_mode": {
    "name": "ipython",
    "version": 3
   },
   "file_extension": ".py",
   "mimetype": "text/x-python",
   "name": "python",
   "nbconvert_exporter": "python",
   "pygments_lexer": "ipython3",
   "version": "3.7.3"
  }
 },
 "nbformat": 4,
 "nbformat_minor": 4
}
